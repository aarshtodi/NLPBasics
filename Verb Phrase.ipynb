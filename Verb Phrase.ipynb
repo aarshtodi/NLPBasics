{
 "cells": [
  {
   "cell_type": "code",
   "execution_count": 1,
   "metadata": {},
   "outputs": [],
   "source": [
    "import nltk\n",
    "from nltk.tokenize import word_tokenize,sent_tokenize\n",
    "from nltk import pos_tag"
   ]
  },
  {
   "cell_type": "code",
   "execution_count": 2,
   "metadata": {},
   "outputs": [
    {
     "data": {
      "text/plain": [
       "'Four score and seven years ago our fathers brought forth on this continent, a new nation, conceived in Liberty, and dedicated to the proposition that all men are created equal. Now we are engaged in a great civil war, testing whether that nation, or any nation so conceived and so dedicated, can long endure. We are met on a great battle-field of that war. We have come to dedicate a portion of that field, as a final resting place for those who here gave their lives that that nation might live. It is altogether fitting and proper that we should do this. But, in a larger sense, we can not dedicateâ€”we can not consecrateâ€”we can not hallowâ€”this ground. The brave men, living and dead, who struggled here, have consecrated it, far above our poor power to add or detract. The world will little note, nor long remember what we say here, but it can never forget what they did here. It is for us the living, rather, to be dedicated here to the unfinished work which they who fought here have thus far so nobly advanced. It is rather for us to be here dedicated to the great task remaining before usâ€”that from these honored dead we take increased devotion to that cause for which they gave the last full measure of devotionâ€”that we here highly resolve that these dead shall not have died in vainâ€”that this nation, under God, shall have a new birth of freedomâ€”and that government of the people, by the people, for the people, shall not perish from the earth.'"
      ]
     },
     "execution_count": 2,
     "metadata": {},
     "output_type": "execute_result"
    }
   ],
   "source": [
    "text = open(\"Gettysburg_Address.txt\",\"r\")\n",
    "text = text.read()\n",
    "text"
   ]
  },
  {
   "cell_type": "code",
   "execution_count": 3,
   "metadata": {},
   "outputs": [
    {
     "data": {
      "text/plain": [
       "['Four score and seven years ago our fathers brought forth on this continent, a new nation, conceived in Liberty, and dedicated to the proposition that all men are created equal.',\n",
       " 'Now we are engaged in a great civil war, testing whether that nation, or any nation so conceived and so dedicated, can long endure.',\n",
       " 'We are met on a great battle-field of that war.',\n",
       " 'We have come to dedicate a portion of that field, as a final resting place for those who here gave their lives that that nation might live.',\n",
       " 'It is altogether fitting and proper that we should do this.',\n",
       " 'But, in a larger sense, we can not dedicateâ€”we can not consecrateâ€”we can not hallowâ€”this ground.',\n",
       " 'The brave men, living and dead, who struggled here, have consecrated it, far above our poor power to add or detract.',\n",
       " 'The world will little note, nor long remember what we say here, but it can never forget what they did here.',\n",
       " 'It is for us the living, rather, to be dedicated here to the unfinished work which they who fought here have thus far so nobly advanced.',\n",
       " 'It is rather for us to be here dedicated to the great task remaining before usâ€”that from these honored dead we take increased devotion to that cause for which they gave the last full measure of devotionâ€”that we here highly resolve that these dead shall not have died in vainâ€”that this nation, under God, shall have a new birth of freedomâ€”and that government of the people, by the people, for the people, shall not perish from the earth.']"
      ]
     },
     "execution_count": 3,
     "metadata": {},
     "output_type": "execute_result"
    }
   ],
   "source": [
    "text = sent_tokenize(text)\n",
    "text"
   ]
  },
  {
   "cell_type": "code",
   "execution_count": 4,
   "metadata": {},
   "outputs": [
    {
     "name": "stdout",
     "output_type": "stream",
     "text": [
      "[['Four', 'score', 'and', 'seven', 'years', 'ago', 'our', 'fathers', 'brought', 'forth', 'on', 'this', 'continent', ',', 'a', 'new', 'nation', ',', 'conceived', 'in', 'Liberty', ',', 'and', 'dedicated', 'to', 'the', 'proposition', 'that', 'all', 'men', 'are', 'created', 'equal', '.'], ['Now', 'we', 'are', 'engaged', 'in', 'a', 'great', 'civil', 'war', ',', 'testing', 'whether', 'that', 'nation', ',', 'or', 'any', 'nation', 'so', 'conceived', 'and', 'so', 'dedicated', ',', 'can', 'long', 'endure', '.'], ['We', 'are', 'met', 'on', 'a', 'great', 'battle-field', 'of', 'that', 'war', '.'], ['We', 'have', 'come', 'to', 'dedicate', 'a', 'portion', 'of', 'that', 'field', ',', 'as', 'a', 'final', 'resting', 'place', 'for', 'those', 'who', 'here', 'gave', 'their', 'lives', 'that', 'that', 'nation', 'might', 'live', '.'], ['It', 'is', 'altogether', 'fitting', 'and', 'proper', 'that', 'we', 'should', 'do', 'this', '.'], ['But', ',', 'in', 'a', 'larger', 'sense', ',', 'we', 'can', 'not', 'dedicateâ€', '”', 'we', 'can', 'not', 'consecrateâ€', '”', 'we', 'can', 'not', 'hallowâ€', '”', 'this', 'ground', '.'], ['The', 'brave', 'men', ',', 'living', 'and', 'dead', ',', 'who', 'struggled', 'here', ',', 'have', 'consecrated', 'it', ',', 'far', 'above', 'our', 'poor', 'power', 'to', 'add', 'or', 'detract', '.'], ['The', 'world', 'will', 'little', 'note', ',', 'nor', 'long', 'remember', 'what', 'we', 'say', 'here', ',', 'but', 'it', 'can', 'never', 'forget', 'what', 'they', 'did', 'here', '.'], ['It', 'is', 'for', 'us', 'the', 'living', ',', 'rather', ',', 'to', 'be', 'dedicated', 'here', 'to', 'the', 'unfinished', 'work', 'which', 'they', 'who', 'fought', 'here', 'have', 'thus', 'far', 'so', 'nobly', 'advanced', '.'], ['It', 'is', 'rather', 'for', 'us', 'to', 'be', 'here', 'dedicated', 'to', 'the', 'great', 'task', 'remaining', 'before', 'usâ€', '”', 'that', 'from', 'these', 'honored', 'dead', 'we', 'take', 'increased', 'devotion', 'to', 'that', 'cause', 'for', 'which', 'they', 'gave', 'the', 'last', 'full', 'measure', 'of', 'devotionâ€', '”', 'that', 'we', 'here', 'highly', 'resolve', 'that', 'these', 'dead', 'shall', 'not', 'have', 'died', 'in', 'vainâ€', '”', 'that', 'this', 'nation', ',', 'under', 'God', ',', 'shall', 'have', 'a', 'new', 'birth', 'of', 'freedomâ€', '”', 'and', 'that', 'government', 'of', 'the', 'people', ',', 'by', 'the', 'people', ',', 'for', 'the', 'people', ',', 'shall', 'not', 'perish', 'from', 'the', 'earth', '.']]\n"
     ]
    }
   ],
   "source": [
    "for i in range(len(text)):\n",
    "  text[i] = word_tokenize(text[i])\n",
    "print(text)"
   ]
  },
  {
   "cell_type": "code",
   "execution_count": 5,
   "metadata": {},
   "outputs": [
    {
     "name": "stdout",
     "output_type": "stream",
     "text": [
      "[[('Four', 'CD'), ('score', 'NN'), ('and', 'CC'), ('seven', 'CD'), ('years', 'NNS'), ('ago', 'RB'), ('our', 'PRP$'), ('fathers', 'NNS'), ('brought', 'VBN'), ('forth', 'RB'), ('on', 'IN'), ('this', 'DT'), ('continent', 'NN'), (',', ','), ('a', 'DT'), ('new', 'JJ'), ('nation', 'NN'), (',', ','), ('conceived', 'VBN'), ('in', 'IN'), ('Liberty', 'NNP'), (',', ','), ('and', 'CC'), ('dedicated', 'VBD'), ('to', 'TO'), ('the', 'DT'), ('proposition', 'NN'), ('that', 'IN'), ('all', 'DT'), ('men', 'NNS'), ('are', 'VBP'), ('created', 'VBN'), ('equal', 'JJ'), ('.', '.')], [('Now', 'RB'), ('we', 'PRP'), ('are', 'VBP'), ('engaged', 'VBN'), ('in', 'IN'), ('a', 'DT'), ('great', 'JJ'), ('civil', 'JJ'), ('war', 'NN'), (',', ','), ('testing', 'VBG'), ('whether', 'IN'), ('that', 'DT'), ('nation', 'NN'), (',', ','), ('or', 'CC'), ('any', 'DT'), ('nation', 'NN'), ('so', 'RB'), ('conceived', 'JJ'), ('and', 'CC'), ('so', 'RB'), ('dedicated', 'JJ'), (',', ','), ('can', 'MD'), ('long', 'VB'), ('endure', 'NN'), ('.', '.')], [('We', 'PRP'), ('are', 'VBP'), ('met', 'VBN'), ('on', 'IN'), ('a', 'DT'), ('great', 'JJ'), ('battle-field', 'NN'), ('of', 'IN'), ('that', 'DT'), ('war', 'NN'), ('.', '.')], [('We', 'PRP'), ('have', 'VBP'), ('come', 'VBN'), ('to', 'TO'), ('dedicate', 'VB'), ('a', 'DT'), ('portion', 'NN'), ('of', 'IN'), ('that', 'DT'), ('field', 'NN'), (',', ','), ('as', 'IN'), ('a', 'DT'), ('final', 'JJ'), ('resting', 'NN'), ('place', 'NN'), ('for', 'IN'), ('those', 'DT'), ('who', 'WP'), ('here', 'RB'), ('gave', 'VBD'), ('their', 'PRP$'), ('lives', 'NNS'), ('that', 'IN'), ('that', 'DT'), ('nation', 'NN'), ('might', 'MD'), ('live', 'VB'), ('.', '.')], [('It', 'PRP'), ('is', 'VBZ'), ('altogether', 'RB'), ('fitting', 'JJ'), ('and', 'CC'), ('proper', 'JJ'), ('that', 'IN'), ('we', 'PRP'), ('should', 'MD'), ('do', 'VB'), ('this', 'DT'), ('.', '.')], [('But', 'CC'), (',', ','), ('in', 'IN'), ('a', 'DT'), ('larger', 'JJR'), ('sense', 'NN'), (',', ','), ('we', 'PRP'), ('can', 'MD'), ('not', 'RB'), ('dedicateâ€', 'VB'), ('”', 'IN'), ('we', 'PRP'), ('can', 'MD'), ('not', 'RB'), ('consecrateâ€', 'VB'), ('”', 'IN'), ('we', 'PRP'), ('can', 'MD'), ('not', 'RB'), ('hallowâ€', 'VB'), ('”', 'NN'), ('this', 'DT'), ('ground', 'NN'), ('.', '.')], [('The', 'DT'), ('brave', 'NN'), ('men', 'NNS'), (',', ','), ('living', 'NN'), ('and', 'CC'), ('dead', 'JJ'), (',', ','), ('who', 'WP'), ('struggled', 'VBD'), ('here', 'RB'), (',', ','), ('have', 'VBP'), ('consecrated', 'VBN'), ('it', 'PRP'), (',', ','), ('far', 'RB'), ('above', 'IN'), ('our', 'PRP$'), ('poor', 'JJ'), ('power', 'NN'), ('to', 'TO'), ('add', 'VB'), ('or', 'CC'), ('detract', 'VB'), ('.', '.')], [('The', 'DT'), ('world', 'NN'), ('will', 'MD'), ('little', 'VB'), ('note', 'NN'), (',', ','), ('nor', 'CC'), ('long', 'JJ'), ('remember', 'VB'), ('what', 'WP'), ('we', 'PRP'), ('say', 'VBP'), ('here', 'RB'), (',', ','), ('but', 'CC'), ('it', 'PRP'), ('can', 'MD'), ('never', 'RB'), ('forget', 'VB'), ('what', 'WP'), ('they', 'PRP'), ('did', 'VBD'), ('here', 'RB'), ('.', '.')], [('It', 'PRP'), ('is', 'VBZ'), ('for', 'IN'), ('us', 'PRP'), ('the', 'DT'), ('living', 'NN'), (',', ','), ('rather', 'RB'), (',', ','), ('to', 'TO'), ('be', 'VB'), ('dedicated', 'VBN'), ('here', 'RB'), ('to', 'TO'), ('the', 'DT'), ('unfinished', 'JJ'), ('work', 'NN'), ('which', 'WDT'), ('they', 'PRP'), ('who', 'WP'), ('fought', 'VBP'), ('here', 'RB'), ('have', 'VBP'), ('thus', 'RB'), ('far', 'RB'), ('so', 'RB'), ('nobly', 'RB'), ('advanced', 'JJ'), ('.', '.')], [('It', 'PRP'), ('is', 'VBZ'), ('rather', 'RB'), ('for', 'IN'), ('us', 'PRP'), ('to', 'TO'), ('be', 'VB'), ('here', 'RB'), ('dedicated', 'VBN'), ('to', 'TO'), ('the', 'DT'), ('great', 'JJ'), ('task', 'NN'), ('remaining', 'VBG'), ('before', 'IN'), ('usâ€', 'JJ'), ('”', 'NN'), ('that', 'IN'), ('from', 'IN'), ('these', 'DT'), ('honored', 'VBN'), ('dead', 'NN'), ('we', 'PRP'), ('take', 'VBP'), ('increased', 'JJ'), ('devotion', 'NN'), ('to', 'TO'), ('that', 'DT'), ('cause', 'NN'), ('for', 'IN'), ('which', 'WDT'), ('they', 'PRP'), ('gave', 'VBD'), ('the', 'DT'), ('last', 'JJ'), ('full', 'JJ'), ('measure', 'NN'), ('of', 'IN'), ('devotionâ€', 'NN'), ('”', 'NN'), ('that', 'IN'), ('we', 'PRP'), ('here', 'RB'), ('highly', 'RB'), ('resolve', 'VBP'), ('that', 'IN'), ('these', 'DT'), ('dead', 'JJ'), ('shall', 'MD'), ('not', 'RB'), ('have', 'VB'), ('died', 'VBN'), ('in', 'IN'), ('vainâ€', 'NN'), ('”', 'NN'), ('that', 'IN'), ('this', 'DT'), ('nation', 'NN'), (',', ','), ('under', 'IN'), ('God', 'NNP'), (',', ','), ('shall', 'MD'), ('have', 'VB'), ('a', 'DT'), ('new', 'JJ'), ('birth', 'NN'), ('of', 'IN'), ('freedomâ€', 'JJ'), ('”', 'NN'), ('and', 'CC'), ('that', 'DT'), ('government', 'NN'), ('of', 'IN'), ('the', 'DT'), ('people', 'NNS'), (',', ','), ('by', 'IN'), ('the', 'DT'), ('people', 'NNS'), (',', ','), ('for', 'IN'), ('the', 'DT'), ('people', 'NNS'), (',', ','), ('shall', 'MD'), ('not', 'RB'), ('perish', 'VB'), ('from', 'IN'), ('the', 'DT'), ('earth', 'NN'), ('.', '.')]]\n"
     ]
    }
   ],
   "source": [
    "for i in range(len(text)):\n",
    "  text[i] = pos_tag(text[i])\n",
    "print(text)"
   ]
  },
  {
   "cell_type": "code",
   "execution_count": 11,
   "metadata": {},
   "outputs": [],
   "source": [
    "grammar = \"VP: {<VB.><DT><NN.>}\""
   ]
  },
  {
   "cell_type": "code",
   "execution_count": null,
   "metadata": {
    "scrolled": false
   },
   "outputs": [],
   "source": [
    "results = []\n",
    "cp = nltk.RegexpParser(grammar)\n",
    "for sentence in text:\n",
    "    result = cp.parse(sentence)\n",
    "    print(result,'\\n\\n')\n",
    "    results.append(result)"
   ]
  },
  {
   "cell_type": "code",
   "execution_count": null,
   "metadata": {},
   "outputs": [],
   "source": [
    "for result in results:\n",
    "    result.draw()"
   ]
  },
  {
   "cell_type": "code",
   "execution_count": null,
   "metadata": {},
   "outputs": [],
   "source": []
  }
 ],
 "metadata": {
  "kernelspec": {
   "display_name": "Python 3",
   "language": "python",
   "name": "python3"
  },
  "language_info": {
   "codemirror_mode": {
    "name": "ipython",
    "version": 3
   },
   "file_extension": ".py",
   "mimetype": "text/x-python",
   "name": "python",
   "nbconvert_exporter": "python",
   "pygments_lexer": "ipython3",
   "version": "3.7.3"
  }
 },
 "nbformat": 4,
 "nbformat_minor": 4
}
